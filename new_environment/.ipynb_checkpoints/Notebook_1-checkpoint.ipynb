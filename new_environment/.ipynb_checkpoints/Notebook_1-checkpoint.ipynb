{
 "cells": [
  {
   "cell_type": "code",
   "execution_count": 19,
   "metadata": {},
   "outputs": [
    {
     "name": "stdout",
     "output_type": "stream",
     "text": [
      "Name: George\n",
      "Song: Roses\n",
      "GitHub: schmgm12\n",
      "\n",
      "Name: name2\n",
      "Song: song 2\n",
      "GitHub: schmgm12_\n",
      "\n"
     ]
    }
   ],
   "source": [
    "partners_info = {'partner_1' : {\n",
    "                    'Name' : 'George',\n",
    "                    'Song' : 'Roses',\n",
    "                    'GitHub' : 'schmgm12'},\n",
    "                 'partner_2' : {\n",
    "                     'Name' : 'name2',\n",
    "                     'Song' : 'song 2',\n",
    "                     'GitHub' : 'schmgm12_'     \n",
    "                 }\n",
    "    }\n",
    "\n",
    "for partner in partners_info:\n",
    "    \n",
    "    print('Name: {}\\nSong: {}\\nGitHub: {}\\n'.format(partners_info[partner]['Name'],\n",
    "                                                 partners_info[partner]['Song'],\n",
    "                                                 partners_info[partner]['GitHub']))\n"
   ]
  }
 ],
 "metadata": {
  "kernelspec": {
   "display_name": "Python 3",
   "language": "python",
   "name": "python3"
  },
  "language_info": {
   "codemirror_mode": {
    "name": "ipython",
    "version": 3
   },
   "file_extension": ".py",
   "mimetype": "text/x-python",
   "name": "python",
   "nbconvert_exporter": "python",
   "pygments_lexer": "ipython3",
   "version": "3.6.4"
  }
 },
 "nbformat": 4,
 "nbformat_minor": 2
}
